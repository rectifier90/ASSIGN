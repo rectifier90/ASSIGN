{
 "cells": [
  {
   "cell_type": "code",
   "execution_count": 6,
   "id": "a5004d5d",
   "metadata": {},
   "outputs": [
    {
     "name": "stdout",
     "output_type": "stream",
     "text": [
      "The first_name is : ['Sumedh', 'Tharun']\n",
      "The last_name is : ['Bangaru', 'Reddy']\n",
      "The list after element concatenation is : ['SumedhBangaru', 'TharunReddy']\n"
     ]
    }
   ],
   "source": [
    "first_name = [\"Sumedh\",\"Tharun\"]\n",
    "last_name = ['Bangaru', 'Reddy']\n",
    "\n",
    "print (\"The first_name is : \" + str(first_name))\n",
    "print (\"The last_name is : \" + str(last_name))\n",
    "res = []\n",
    "for i in range(len(first_name)):\n",
    "    res.append(first_name[i]+last_name[i])\n",
    "print(\"The list after element concatenation is : \" + str(res))"
   ]
  },
  {
   "cell_type": "code",
   "execution_count": 3,
   "id": "b97d8aa7",
   "metadata": {},
   "outputs": [
    {
     "name": "stdout",
     "output_type": "stream",
     "text": [
      "[3, 'Cricket', 4, 5, 6, 7, 'BasketBall']\n",
      "[1, 'Cricket', 2, 3, 4, 5, 'BasketBall']\n"
     ]
    }
   ],
   "source": [
    "#List Append\n",
    "\n",
    "Hero = [3, \"Cricket\", 4, 5]\n",
    "Noan = [6, 7, \"BasketBall\"]\n",
    "\n",
    "Adidas = Hero + Noan\n",
    "print(Adidas)\n",
    "\n",
    "#List Extend\n",
    "\n",
    "Present = [8, \"Cricket\", 9, 10]\n",
    "Past = [11, 12, \"BasketBall\"]\n",
    "\n",
    "Future = Present + Past\n",
    "print(Current)"
   ]
  },
  {
   "cell_type": "code",
   "execution_count": null,
   "id": "bd26324f",
   "metadata": {},
   "outputs": [],
   "source": []
  }
 ],
 "metadata": {
  "kernelspec": {
   "display_name": "Python 3 (ipykernel)",
   "language": "python",
   "name": "python3"
  },
  "language_info": {
   "codemirror_mode": {
    "name": "ipython",
    "version": 3
   },
   "file_extension": ".py",
   "mimetype": "text/x-python",
   "name": "python",
   "nbconvert_exporter": "python",
   "pygments_lexer": "ipython3",
   "version": "3.9.12"
  }
 },
 "nbformat": 4,
 "nbformat_minor": 5
}

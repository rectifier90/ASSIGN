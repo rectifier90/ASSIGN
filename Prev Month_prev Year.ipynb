{
 "cells": [
  {
   "cell_type": "code",
   "execution_count": 3,
   "id": "c9c80e59",
   "metadata": {},
   "outputs": [
    {
     "name": "stdout",
     "output_type": "stream",
     "text": [
      "Previous Month: 204912\n",
      "Previous Quarter: Q2\n",
      "Future Year and Month: 205012\n",
      "Quarter of Parameter: Q3_2050\n"
     ]
    }
   ],
   "source": [
    "def get_date_info(year_month, quarter):\n",
    "    year = int(year_month[:4])\n",
    "    month = int(year_month[4:])\n",
    "\n",
    "    # Calculate previous month\n",
    "    previous_month = (year * 100 + month - 1) if month > 1 else ((year - 1) * 100 + 12)\n",
    "    previous_month = str(previous_month).zfill(6)\n",
    "\n",
    "    # Calculate previous quarter\n",
    "    previous_quarter = quarter - 1 if quarter > 1 else 4\n",
    "    previous_quarter = f\"Q{previous_quarter}\"\n",
    "\n",
    "    # Calculate future year and month\n",
    "    future_year = year\n",
    "    future_month = month + 11\n",
    "    if future_month > 12:\n",
    "        future_month -= 12\n",
    "        future_year += 1\n",
    "    future_year_month = str(future_year).zfill(4) + str(future_month).zfill(2)\n",
    "\n",
    "    # Calculate quarter of the parameter\n",
    "    parameter_quarter = f\"Q{quarter}_{year}\"\n",
    "\n",
    "    return previous_month, previous_quarter, future_year_month, parameter_quarter\n",
    "\n",
    "\n",
    "# Example usage\n",
    "year_month = \"205001\"\n",
    "quarter = 3\n",
    "\n",
    "previous_month, previous_quarter, future_year_month, parameter_quarter = get_date_info(year_month, quarter)\n",
    "\n",
    "print(\"Previous Month:\", previous_month)\n",
    "print(\"Previous Quarter:\", previous_quarter)\n",
    "print(\"Future Year and Month:\", future_year_month)\n",
    "print(\"Quarter of Parameter:\", parameter_quarter)"
   ]
  },
  {
   "cell_type": "code",
   "execution_count": null,
   "id": "0c6f1e0c",
   "metadata": {},
   "outputs": [],
   "source": []
  }
 ],
 "metadata": {
  "kernelspec": {
   "display_name": "Python 3 (ipykernel)",
   "language": "python",
   "name": "python3"
  },
  "language_info": {
   "codemirror_mode": {
    "name": "ipython",
    "version": 3
   },
   "file_extension": ".py",
   "mimetype": "text/x-python",
   "name": "python",
   "nbconvert_exporter": "python",
   "pygments_lexer": "ipython3",
   "version": "3.9.12"
  }
 },
 "nbformat": 4,
 "nbformat_minor": 5
}
